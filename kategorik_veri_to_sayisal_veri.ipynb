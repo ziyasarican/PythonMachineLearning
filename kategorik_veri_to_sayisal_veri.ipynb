# Kategorik (karakter) verileri sayısal verilere dönüştürmek için.

{
  "nbformat": 4,
  "nbformat_minor": 0,
  "metadata": {
    "colab": {
      "provenance": [],
      "authorship_tag": "ABX9TyOIsjDzVS5ZvJfo2f3tF906",
      "include_colab_link": true
    },
    "kernelspec": {
      "name": "python3",
      "display_name": "Python 3"
    },
    "language_info": {
      "name": "python"
    }
  },
  "cells": [
    {
      "cell_type": "markdown",
      "metadata": {
        "id": "view-in-github",
        "colab_type": "text"
      },
      "source": [
        "<a href=\"https://colab.research.google.com/github/ziyasarican/PythonMachineLearning/blob/main/kategorik_veri_to_sayisal_veri.ipynb\" target=\"_parent\"><img src=\"https://colab.research.google.com/assets/colab-badge.svg\" alt=\"Open In Colab\"/></a>"
      ]
    },
    {
      "cell_type": "code",
      "execution_count": 1,
      "metadata": {
        "id": "KxJJeJebzdDx"
      },
      "outputs": [],
      "source": [
        "import pandas as pd\n",
        "import numpy as np\n",
        "df = pd.read_csv(\"eksikveriler.csv\")"
      ]
    },
    {
      "cell_type": "code",
      "source": [
        "from sklearn.impute import SimpleImputer\n",
        "imputer = SimpleImputer(missing_values=np.nan, strategy='mean')\n",
        "\n",
        "ulke = df.iloc[:,0:1].values \n",
        "ulke"
      ],
      "metadata": {
        "colab": {
          "base_uri": "https://localhost:8080/"
        },
        "id": "1m_SVPEyzkBz",
        "outputId": "9aef93cb-6737-4670-c95a-c3f0b499b418"
      },
      "execution_count": 2,
      "outputs": [
        {
          "output_type": "execute_result",
          "data": {
            "text/plain": [
              "array([['tr'],\n",
              "       ['tr'],\n",
              "       ['tr'],\n",
              "       ['tr'],\n",
              "       ['tr'],\n",
              "       ['tr'],\n",
              "       ['tr'],\n",
              "       ['tr'],\n",
              "       ['tr'],\n",
              "       ['us'],\n",
              "       ['us'],\n",
              "       ['us'],\n",
              "       ['us'],\n",
              "       ['us'],\n",
              "       ['us'],\n",
              "       ['fr'],\n",
              "       ['fr'],\n",
              "       ['fr'],\n",
              "       ['fr'],\n",
              "       ['fr'],\n",
              "       ['fr'],\n",
              "       ['fr']], dtype=object)"
            ]
          },
          "metadata": {},
          "execution_count": 2
        }
      ]
    },
    {
      "cell_type": "code",
      "source": [
        "from sklearn import preprocessing\n",
        "\n",
        "le = preprocessing.LabelEncoder()\n",
        "\n",
        "# Otomatik olarak 1'den başlayarak değer ataması yapıyor\n",
        "ulke[:,0] = le.fit_transform(df.iloc[:,0])\n",
        "ulke"
      ],
      "metadata": {
        "colab": {
          "base_uri": "https://localhost:8080/"
        },
        "id": "ISkzwjX-znH8",
        "outputId": "2326f432-cb4f-43f0-8ec2-2e8a835e92ba"
      },
      "execution_count": 4,
      "outputs": [
        {
          "output_type": "execute_result",
          "data": {
            "text/plain": [
              "array([[1],\n",
              "       [1],\n",
              "       [1],\n",
              "       [1],\n",
              "       [1],\n",
              "       [1],\n",
              "       [1],\n",
              "       [1],\n",
              "       [1],\n",
              "       [2],\n",
              "       [2],\n",
              "       [2],\n",
              "       [2],\n",
              "       [2],\n",
              "       [2],\n",
              "       [0],\n",
              "       [0],\n",
              "       [0],\n",
              "       [0],\n",
              "       [0],\n",
              "       [0],\n",
              "       [0]], dtype=object)"
            ]
          },
          "metadata": {},
          "execution_count": 4
        }
      ]
    },
    {
      "cell_type": "code",
      "source": [
        "# İşlemeyi daha kolay hale getirmek için sayısal array'e çevirdik\n",
        "ohe = preprocessing.OneHotEncoder()\n",
        "ulke = ohe.fit_transform(ulke).toarray()\n",
        "ulke"
      ],
      "metadata": {
        "colab": {
          "base_uri": "https://localhost:8080/"
        },
        "id": "STmAG4eXzqTh",
        "outputId": "c2b25daf-70b4-4571-e495-c7a9664f980d"
      },
      "execution_count": 6,
      "outputs": [
        {
          "output_type": "execute_result",
          "data": {
            "text/plain": [
              "array([[0., 1., 0.],\n",
              "       [0., 1., 0.],\n",
              "       [0., 1., 0.],\n",
              "       [0., 1., 0.],\n",
              "       [0., 1., 0.],\n",
              "       [0., 1., 0.],\n",
              "       [0., 1., 0.],\n",
              "       [0., 1., 0.],\n",
              "       [0., 1., 0.],\n",
              "       [0., 0., 1.],\n",
              "       [0., 0., 1.],\n",
              "       [0., 0., 1.],\n",
              "       [0., 0., 1.],\n",
              "       [0., 0., 1.],\n",
              "       [0., 0., 1.],\n",
              "       [1., 0., 0.],\n",
              "       [1., 0., 0.],\n",
              "       [1., 0., 0.],\n",
              "       [1., 0., 0.],\n",
              "       [1., 0., 0.],\n",
              "       [1., 0., 0.],\n",
              "       [1., 0., 0.]])"
            ]
          },
          "metadata": {},
          "execution_count": 6
        }
      ]
    },
    {
      "cell_type": "code",
      "source": [],
      "metadata": {
        "id": "i-oDZvQRz-DR"
      },
      "execution_count": null,
      "outputs": []
    }
  ]
}
